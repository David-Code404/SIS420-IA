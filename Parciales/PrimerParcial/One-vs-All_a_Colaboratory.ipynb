{
  "cells": [
    {
      "cell_type": "markdown",
      "source": [
        "PRIMER PARCIAL SIS420\n",
        "ONE VS ALL\n",
        "\n",
        "NOMBRE: QUISPE SUCULLANI JOSE DAVID\n",
        "CARRERA: ING. CIENCIAS DE LA COMPUTACION\n",
        "\n",
        "Link del Dataset: https://www.kaggle.com/datasets/bhadaneeraj/cardio-vascular-disease-detection?select=cardio_train.csv\n",
        "\n",
        "Enlace del GitHub: https://github.com/David-Code404/SIS420-IA/tree/main/Parciales/PrimerParcial\n",
        "\n"
      ],
      "metadata": {
        "id": "HShNfX2qSpGw"
      }
    },
    {
      "cell_type": "code",
      "source": [
        "from google.colab import drive\n",
        "drive.mount('/content/drive')"
      ],
      "metadata": {
        "id": "P8MLy-i0UsDF",
        "outputId": "79316dfb-1afa-4713-c82b-47f7f32a77bd",
        "colab": {
          "base_uri": "https://localhost:8080/"
        }
      },
      "execution_count": 3,
      "outputs": [
        {
          "output_type": "stream",
          "name": "stdout",
          "text": [
            "Mounted at /content/drive\n"
          ]
        }
      ]
    },
    {
      "cell_type": "code",
      "source": [
        "import pandas as pd # importamos la libreria de pandas\n",
        "import numpy as np # importamos la libreria de numpy\n",
        "import matplotlib.pyplot as plt #importamos la libreria de matplotlib para graficar\n",
        "# Leer el archivo Excel usando pandas\n",
        "data = pd.read_csv('/content/drive/MyDrive/SIS420/Parciales/cardio.csv')\n",
        "X = data[['age', 'gender', 'height', 'weight', 'ap_hi', 'ap_lo', 'cholesterol', 'gluc', 'smoke', 'alco', 'active']]\n",
        "y = data['cardio']"
      ],
      "metadata": {
        "id": "y1V9A4M7U__y"
      },
      "execution_count": 16,
      "outputs": []
    },
    {
      "cell_type": "code",
      "source": [],
      "metadata": {
        "id": "eNPCJH2na1RK"
      },
      "execution_count": null,
      "outputs": []
    }
  ],
  "metadata": {
    "colab": {
      "name": "Te damos la bienvenida a Colaboratory",
      "provenance": []
    },
    "kernelspec": {
      "display_name": "Python 3",
      "name": "python3"
    }
  },
  "nbformat": 4,
  "nbformat_minor": 0
}