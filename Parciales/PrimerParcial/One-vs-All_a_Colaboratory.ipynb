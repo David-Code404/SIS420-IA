{
  "cells": [
    {
      "cell_type": "markdown",
      "source": [
        "PRIMER PARCIAL SIS420\n",
        "ONE VS ALL\n",
        "\n",
        "NOMBRE: QUISPE SUCULLANI JOSE DAVID\n",
        "CARRERA: ING. CIENCIAS DE LA COMPUTACION\n",
        "\n",
        "Link del Dataset: https://www.kaggle.com/datasets/bhadaneeraj/cardio-vascular-disease-detection?select=cardio_train.csv\n",
        "\n",
        "Enlace del GitHub: https://github.com/David-Code404/SIS420-IA/tree/main/Parciales/PrimerParcial\n",
        "\n"
      ],
      "metadata": {
        "id": "HShNfX2qSpGw"
      }
    },
    {
      "cell_type": "code",
      "source": [
        "from google.colab import drive\n",
        "drive.mount('/content/drive')"
      ],
      "metadata": {
        "colab": {
          "base_uri": "https://localhost:8080/"
        },
        "id": "P8MLy-i0UsDF",
        "outputId": "79316dfb-1afa-4713-c82b-47f7f32a77bd"
      },
      "execution_count": 3,
      "outputs": [
        {
          "output_type": "stream",
          "name": "stdout",
          "text": [
            "Mounted at /content/drive\n"
          ]
        }
      ]
    },
    {
      "cell_type": "code",
      "source": [
        "import pandas as pd # importamos la libreria de pandas\n",
        "import numpy as np # importamos la libreria de numpy\n",
        "import matplotlib.pyplot as plt #importamos la libreria de matplotlib para graficar\n",
        "# Leer el archivo Excel usando pandas\n",
        "data = pd.read_csv('/content/drive/MyDrive/SIS420/Parciales/cardio.csv')\n",
        "X = data[['age', 'gender', 'height', 'weight', 'ap_hi', 'ap_lo', 'cholesterol', 'gluc', 'smoke', 'alco', 'active']]\n",
        "y = data['cardio']"
      ],
      "metadata": {
        "id": "y1V9A4M7U__y"
      },
      "execution_count": 16,
      "outputs": []
    },
    {
      "cell_type": "code",
      "source": [
        "from google.colab import files\n",
        "\n",
        "# Duplicar las filas\n",
        "data_duplicated = data.copy()\n",
        "\n",
        "# Añadir tres nuevas columnas\n",
        "data['bmi'] = data['weight'] / (data['height'] / 100) ** 2  # Cálculo de BMI\n",
        "data['family_history'] = np.random.choice([0, 1], size=len(data))  # Historial familiar (0: No, 1: Sí)\n",
        "data['physical_activity_level'] = np.random.randint(0, 5, size=len(data))  # Nivel de actividad física (0 a 5)\n",
        "\n",
        "data_duplicated['bmi'] = data_duplicated['weight'] / (data_duplicated['height'] / 100) ** 2\n",
        "data_duplicated['family_history'] = np.random.choice([0, 1], size=len(data_duplicated))\n",
        "data_duplicated['physical_activity_level'] = np.random.randint(0, 5, size=len(data_duplicated))\n",
        "\n",
        "# Concatenar los datos originales con los duplicados\n",
        "cardio_2 = pd.concat([data, data_duplicated], ignore_index=True)\n",
        "\n",
        "# Guardar el nuevo archivo CSV con 40,000 filas\n",
        "cardio_2.to_csv('Cardio_2.csv', index=False)\n",
        "\n",
        "files.download('Cardio_2.csv')\n",
        "\n"
      ],
      "metadata": {
        "colab": {
          "base_uri": "https://localhost:8080/",
          "height": 17
        },
        "id": "eNPCJH2na1RK",
        "outputId": "eab574b0-43e8-457e-e1fc-50ccd55518a8"
      },
      "execution_count": 18,
      "outputs": [
        {
          "output_type": "display_data",
          "data": {
            "text/plain": [
              "<IPython.core.display.Javascript object>"
            ],
            "application/javascript": [
              "\n",
              "    async function download(id, filename, size) {\n",
              "      if (!google.colab.kernel.accessAllowed) {\n",
              "        return;\n",
              "      }\n",
              "      const div = document.createElement('div');\n",
              "      const label = document.createElement('label');\n",
              "      label.textContent = `Downloading \"${filename}\": `;\n",
              "      div.appendChild(label);\n",
              "      const progress = document.createElement('progress');\n",
              "      progress.max = size;\n",
              "      div.appendChild(progress);\n",
              "      document.body.appendChild(div);\n",
              "\n",
              "      const buffers = [];\n",
              "      let downloaded = 0;\n",
              "\n",
              "      const channel = await google.colab.kernel.comms.open(id);\n",
              "      // Send a message to notify the kernel that we're ready.\n",
              "      channel.send({})\n",
              "\n",
              "      for await (const message of channel.messages) {\n",
              "        // Send a message to notify the kernel that we're ready.\n",
              "        channel.send({})\n",
              "        if (message.buffers) {\n",
              "          for (const buffer of message.buffers) {\n",
              "            buffers.push(buffer);\n",
              "            downloaded += buffer.byteLength;\n",
              "            progress.value = downloaded;\n",
              "          }\n",
              "        }\n",
              "      }\n",
              "      const blob = new Blob(buffers, {type: 'application/binary'});\n",
              "      const a = document.createElement('a');\n",
              "      a.href = window.URL.createObjectURL(blob);\n",
              "      a.download = filename;\n",
              "      div.appendChild(a);\n",
              "      a.click();\n",
              "      div.remove();\n",
              "    }\n",
              "  "
            ]
          },
          "metadata": {}
        },
        {
          "output_type": "display_data",
          "data": {
            "text/plain": [
              "<IPython.core.display.Javascript object>"
            ],
            "application/javascript": [
              "download(\"download_bd9d9737-ef3a-4207-b8b0-59ac213b79db\", \"Cardio_2.csv\", 8954125)"
            ]
          },
          "metadata": {}
        }
      ]
    },
    {
      "cell_type": "code",
      "source": [],
      "metadata": {
        "id": "6tQhK6dIdqkY"
      },
      "execution_count": null,
      "outputs": []
    }
  ],
  "metadata": {
    "colab": {
      "name": "Te damos la bienvenida a Colaboratory",
      "provenance": []
    },
    "kernelspec": {
      "display_name": "Python 3",
      "name": "python3"
    }
  },
  "nbformat": 4,
  "nbformat_minor": 0
}